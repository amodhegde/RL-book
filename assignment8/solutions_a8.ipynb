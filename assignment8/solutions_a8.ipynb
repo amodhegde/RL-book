{
 "cells": [
  {
   "cell_type": "markdown",
   "id": "6d2b3d6f",
   "metadata": {},
   "source": [
    "**Question 2**\n",
    "\n",
    "\n",
    "We want to find S such that $g(S)$ is minimum. Let's take derivate with respect to S and set it to zero to get optimal $S^*$\n",
    "\n",
    "$$\\frac{\\partial g(S)}{\\partial S} = p\\frac{\\partial g_1(S)}{\\partial S} + h\\frac{\\partial g_2(S)}{\\partial S}=0$$\n",
    "$$-p \\int_S^\\infty f(x)dx+ h\\int^S_{-\\infty} f(x)dx = 0$$\n",
    "Using the fact that $\\int_S^\\infty f(x)dx = 1 - \\int^S_{-\\infty} f(x)dx$, we get\n",
    "\n",
    "$$\\int^S_{-\\infty} f(x)dx = \\frac{p}{h+p}$$\n",
    "\n",
    "$$CDF_x(S^*) =  \\frac{p}{h+p}$$\n",
    "\n",
    "\n",
    "Note that $g(S)$ denotes the payoff of a portfolio with p calls and h puts with strike price $S$. $S^*$ is he strike price that will give us minimum payoff.\n"
   ]
  },
  {
   "cell_type": "markdown",
   "id": "3089f88d",
   "metadata": {},
   "source": [
    "**Question 1**\n",
    "\n",
    "State $S_t$ will have the following attributes:\n",
    "\n",
    "* $x_t$ cash available at the end of the end after selling all stocks.\n",
    "* $p_t$ amount owed to the bank due from (t-1)'s borrowings  \n",
    "* $dw_t$ withdrawals that were not satisfied on that day\n",
    "\n",
    "Action space will have \n",
    "\n",
    "* $y_t$ amount borrowed from the bank at the end of the day\n",
    "* $\\pi_t$ ratio of amount not spent on risky assets.\n",
    "\n",
    "We first pay bank $p_t$, then borrow $y_t$ and then buy risky asset.\n",
    "\n",
    "\n",
    "Therefore, the cash available next day morning is $\\pi_t(x_t - p_t + y_t)$\n",
    "\n",
    "\n",
    "The minimum cash that we should have the next day morning is $c_{min} = K.cot(\\frac{\\pi. c_{min}}{2C})$.\n",
    "\n",
    "Therefore, $\\pi_t(x_t - p_t + y_t) > c_{min}$\n",
    "\n",
    "Cash avaliable at the end of next day has two components, the cash remaining from the cash we started with and then the cash we get from selling the risky asset.\n",
    "\n",
    "$$x_{t+1} = max(\\pi_t(x_t - p_t + y_t) +d_{t+1} - w_{t+1}(t+1, dw_t) -  K.cot(\\frac{\\pi. min(pi_t(x_t - p_t + y_t),C)}{2C}),0) + (1-\\pi_t)(x_t - p_t + y_t)(1+r_{t+1})$$\n",
    "\n",
    "$$p_{t+1} = y_{t+1}(1+R)$$\n",
    "\n",
    "$$dw_{t+1} = max(-(\\pi_t(x_t - p_t + y_t) +d_{t+1} - w_{t+1}(t+1, dw_t) -  K.cot(\\frac{\\pi. min(pi_t(x_t - p_t + y_t),C)}{2C})),0)$$\n",
    "\n",
    "Note: \n",
    "* $r_{t+1}$ is the return on the risky asset. \n",
    "* $d_{t+1}$ is the deposit amount\n",
    "* $w_{t+1}(t+1, dw_t)$ is the withdrawal amount.\n",
    "\n",
    "\n",
    "Reward will be the uitility of the cash remaining on the last day i.e. $U(x_T - p_T)$. Reward will be 0 for other days.\n"
   ]
  },
  {
   "cell_type": "markdown",
   "id": "d43a485e",
   "metadata": {},
   "source": [
    "* To solve the above with RL we need a simulator that can generate episodes. This simulator can be built using the historical data available. We can get calculate the transition probabilities from the historical data for the required random variables. Once we have the transition probabilities, we can sample to generate episodes.\n",
    "\n",
    "* The action space and the state space are huge. We could use a policy gradient algorithm with an approximation on Q-value function. For this, we could use actor-critic algorithm with NN."
   ]
  },
  {
   "cell_type": "code",
   "execution_count": null,
   "id": "43d05556",
   "metadata": {},
   "outputs": [],
   "source": []
  }
 ],
 "metadata": {
  "kernelspec": {
   "display_name": "Python 3.8.6 64-bit ('ml_101': conda)",
   "language": "python",
   "name": "python386jvsc74a57bd05bfd9133dd126cf38103cd89df3a296c0b5a8984bbd48b120a330d6b9578f0ac"
  },
  "language_info": {
   "codemirror_mode": {
    "name": "ipython",
    "version": 3
   },
   "file_extension": ".py",
   "mimetype": "text/x-python",
   "name": "python",
   "nbconvert_exporter": "python",
   "pygments_lexer": "ipython3",
   "version": "3.8.6"
  }
 },
 "nbformat": 4,
 "nbformat_minor": 5
}
