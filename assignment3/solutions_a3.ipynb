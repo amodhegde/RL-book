{
 "cells": [
  {
   "cell_type": "markdown",
   "id": "15765f3a",
   "metadata": {},
   "source": [
    "**Question 1**\n",
    "\n",
    "MDP Bellman Policy Equations\n",
    "\n",
    "$$V^{\\pi_D}(s) = R^{\\pi_D}(s,\\pi_D(s)) + \\gamma \\sum_{s' \\in \\mathcal{N}} P^{\\pi_D}(s,\\pi_D(s),s')V^{\\pi_D}(s'))$$\n",
    "$$V^{\\pi_D}(s) = Q^{\\pi_D}(s,\\pi_D(s))$$\n",
    "$$ Q^{\\pi_D}(s,\\pi_D(s)) = R^{\\pi_D}(s,\\pi_D(s)) + \\gamma \\sum_{s' \\in \\mathcal{N}} P^{\\pi_D}(s,\\pi_D(s),s',V^{\\pi_D}(s'))$$\n",
    "$$ Q^{\\pi_D}(s,\\pi_D(s)) = R^{\\pi_D}(s,\\pi_D(s)) + \\gamma \\sum_{s' \\in \\mathcal{N}} P^{\\pi_D}(s,\\pi_D(s),s')Q^{\\pi_D}(s,\\pi_D(s))$$\n",
    "\n"
   ]
  },
  {
   "cell_type": "markdown",
   "id": "cb415a59",
   "metadata": {},
   "source": [
    "**Question 2**\n",
    "\n",
    "Using Bellman optimality equation:\n",
    "\n",
    "$$V^*(s) = \\max_{a \\in A}\\{ R(s,a) + \\gamma (P(s,a,s+1)V^*(s+1)+P(s,a,s)V^*(s)) \\}$$\n",
    "\n",
    "Note that that the action and reward are not dependent on the state. Therefore, $V^*(s)=V^*(s+1)$.\n",
    "\n",
    "We know $R(s,a) = (1-a).a + (1+a).(1-a)$. And $P(s,a,s+1) = a$, $P(s,a,s)=1-a$. On substituting to the above, we get\n",
    "\n",
    "$$V^*(s) = \\frac{\\max_{a \\in A}\\{(1-a).(1-2a)\\}}{1-\\gamma}$$.\n",
    "\n",
    "On solving we get $a^* = \\frac{1}{4}$ and $V^*(s) = \\frac{9}{4}.$\n",
    "\n",
    "$\\therefore \\pi^*_D (s) = \\frac{1}{4}$"
   ]
  },
  {
   "cell_type": "markdown",
   "id": "274580a9",
   "metadata": {},
   "source": [
    "**Question 4**\n",
    "\n",
    "The optimal value funciton will be\n",
    "\n",
    "$$V^*(s) = max_{a\\in R}\\{-P(s,a,s').e^{a.s'}\\}$$\n",
    "$$V^*(s) =  max_{a\\in R}\\{ -\\int_{-\\infty}^{\\infty} \\frac{1}{\\sqrt{2}\\pi\\sigma}e^{-\\frac{(x-s)^2}{2\\sigma^2}} e^{a.x}dx\\}$$\n",
    "\n",
    "We complete the squares $(x-(s+a\\sigma^2))^2$ to get the expectation of a gaussian distribution that is equal to 1. We then have remaining\n",
    "\n",
    "$$V^*(s) =  max_{a\\in R}\\{ -e^{sa + \\frac{a^2\\sigma^2}{2}} \\}$$.\n",
    "\n",
    "We can find $a^*$ by taking the partial derivative of the above with $a$ and equating with zero.\n",
    "\n",
    "$$a^* = -\\frac{s}{\\sigma^2}$$\n",
    "\n",
    "We can also easily check that the second derivative at $a^*$ is negative. Thus $a^*$ maximizes the value function. Therefore, we get\n",
    "\n",
    "$$V^*(s) = -e^{-\\frac{s^2}{2\\sigma^2}}$$"
   ]
  },
  {
   "cell_type": "markdown",
   "id": "cc7eeb67",
   "metadata": {},
   "source": [
    "**Question 3**"
   ]
  },
  {
   "cell_type": "code",
   "execution_count": 12,
   "id": "64ce0eef",
   "metadata": {},
   "outputs": [
    {
     "name": "stdout",
     "output_type": "stream",
     "text": [
      "[0.57142857 0.71428571]\n",
      "For State FrogState(leaf=2): Do Action 0\n",
      "For State FrogState(leaf=1): Do Action 1\n",
      "\n",
      "[0.65957447 0.70212766 0.72340426 0.74468085 0.78723404]\n",
      "For State FrogState(leaf=5): Do Action 0\n",
      "For State FrogState(leaf=4): Do Action 0\n",
      "For State FrogState(leaf=3): Do Action 0\n",
      "For State FrogState(leaf=2): Do Action 0\n",
      "For State FrogState(leaf=1): Do Action 1\n",
      "\n",
      "[0.67567568 0.70523649 0.71368243 0.71790541 0.72128378 0.72550676\n",
      " 0.7339527  0.76351351]\n",
      "For State FrogState(leaf=8): Do Action 0\n",
      "For State FrogState(leaf=7): Do Action 0\n",
      "For State FrogState(leaf=6): Do Action 0\n",
      "For State FrogState(leaf=5): Do Action 0\n",
      "For State FrogState(leaf=4): Do Action 0\n",
      "For State FrogState(leaf=3): Do Action 0\n",
      "For State FrogState(leaf=2): Do Action 0\n",
      "For State FrogState(leaf=1): Do Action 1\n",
      "\n"
     ]
    },
    {
     "data": {
      "image/png": "[encoded data removed]",
      "text/plain": [
       "<Figure size 432x288 with 1 Axes>"
      ]
     },
     "metadata": {
      "needs_background": "light"
     },
     "output_type": "display_data"
    }
   ],
   "source": [
    "from dataclasses import dataclass\n",
    "import sys\n",
    "sys.path.append(\"../\")\n",
    "from rl.chapter3.simple_inventory_mdp_cap import InvOrderMapping\n",
    "from typing import Tuple, Dict, Mapping\n",
    "from rl.markov_decision_process import FiniteMarkovDecisionProcess\n",
    "from rl.policy import FiniteDeterministicPolicy\n",
    "from rl.markov_process import FiniteMarkovProcess, FiniteMarkovRewardProcess\n",
    "from rl.distribution import Categorical, Constant, Uniform\n",
    "from copy import deepcopy\n",
    "\n",
    "@dataclass(frozen=True)\n",
    "class FrogState:\n",
    "    leaf: int\n",
    "\n",
    "\n",
    "InvOrderMapping = Mapping[\n",
    "    FrogState,\n",
    "    Mapping[int, Categorical[Tuple[FrogState, int]]]\n",
    "]\n",
    "\n",
    "\n",
    "class FrogLilypad(FiniteMarkovDecisionProcess[FrogState, int]):\n",
    "    def __init__(self, n: int):\n",
    "        self.n: int = n\n",
    "        self.rmap = {0: 0, n: 1}\n",
    "        super().__init__(self.get_action_transition_reward_map())\n",
    "\n",
    "    def get_action_transition_reward_map(self) -> InvOrderMapping:\n",
    "        d: Dict[FrogState, Dict[int, Categorical[Tuple[FrogState, int]]]] = {}\n",
    "        def r(j): return self.rmap[j] if j in self.rmap else 0\n",
    "\n",
    "        for i in range(1, self.n):\n",
    "            act_dict = {}\n",
    "            for a in [0, 1]:\n",
    "                if not a:\n",
    "                    a0 = {(FrogState(i-1), r(i-1)): i/self.n,\n",
    "                          (FrogState(i+1), r(i+1)): (self.n-i)/self.n}\n",
    "                    act_dict[a] = Categorical(a0)\n",
    "                else:\n",
    "                    act_dict[a] = Categorical(\n",
    "                        {(FrogState(x), r(x)): 1/self.n for x in range(0, self.n+1) if x != i})\n",
    "            d[FrogState(i)] = deepcopy(act_dict)\n",
    "        return d\n",
    "\n",
    "\n",
    "if __name__ == \"__main__\":\n",
    "    x = []\n",
    "    y = []\n",
    "    l = [3,6,9]\n",
    "    for leaves in l: \n",
    "        val_fun_max = [-1000 for x in range(0, leaves-1)]\n",
    "        fl: FiniteMarkovDecisionProcess[FrogState, int] = FrogLilypad(n=leaves)\n",
    "        for i in range(0, 2**(leaves-1)):\n",
    "            k = i\n",
    "            j = leaves-1\n",
    "            sample_p = {}\n",
    "            while j > 0:\n",
    "                r = k % 2\n",
    "                sample_p[FrogState(j)] = r\n",
    "                k = int(k/2)\n",
    "                j = j-1\n",
    "\n",
    "            fdp: FiniteDeterministicPolicy[FrogState,\n",
    "                                           int] = FiniteDeterministicPolicy(sample_p)\n",
    "\n",
    "            implied_mrp: FiniteMarkovRewardProcess[FrogState] = fl.apply_finite_policy(\n",
    "                fdp)\n",
    "            val_fun = implied_mrp.get_value_function_vec(gamma=1)\n",
    "            # print(val_fun)\n",
    "            if (val_fun > val_fun_max).all():\n",
    "                val_fun_max = val_fun\n",
    "                best_pol = fdp\n",
    "                best_mrp = implied_mrp\n",
    "\n",
    "        print(val_fun_max)\n",
    "        print(best_pol)\n",
    "        x.append(list(range(1,leaves)))\n",
    "        y.append(val_fun_max)\n",
    "        \n",
    "    from matplotlib import pyplot as plt\n",
    "    plt.plot(x[0],y[0], \".-\", label='n=3')\n",
    "    plt.plot(x[1],y[1], \".-\", label='n=6')\n",
    "    plt.plot(x[2],y[2], \".-\", label='n=9')\n",
    "    plt.xlabel(\"#Lilypad\")\n",
    "    plt.ylabel('Escape probability')\n",
    "    plt.legend()\n",
    "    plt.show()\n",
    "\n",
    "    "
   ]
  },
  {
   "cell_type": "markdown",
   "id": "daad8b3e",
   "metadata": {},
   "source": [
    "**The optimal policy is to take action B when on the first lilypad and action A on all other lilypads.**"
   ]
  },
  {
   "cell_type": "code",
   "execution_count": null,
   "id": "1cf2cd23",
   "metadata": {},
   "outputs": [],
   "source": []
  }
 ],
 "metadata": {
  "kernelspec": {
   "display_name": "Python 3.8.6 64-bit ('ml_101': conda)",
   "language": "python",
   "name": "python386jvsc74a57bd05bfd9133dd126cf38103cd89df3a296c0b5a8984bbd48b120a330d6b9578f0ac"
  },
  "language_info": {
   "codemirror_mode": {
    "name": "ipython",
    "version": 3
   },
   "file_extension": ".py",
   "mimetype": "text/x-python",
   "name": "python",
   "nbconvert_exporter": "python",
   "pygments_lexer": "ipython3",
   "version": "3.8.6"
  }
 },
 "nbformat": 4,
 "nbformat_minor": 5
}
