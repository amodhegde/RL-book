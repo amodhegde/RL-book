{
 "cells": [
  {
   "cell_type": "code",
   "execution_count": 92,
   "id": "3e4ed502",
   "metadata": {},
   "outputs": [],
   "source": [
    "import sys\n",
    "sys.path.append(\"../\")\n",
    "import math\n",
    "import itertools\n",
    "import numpy as np\n",
    "from pprint import pprint\n",
    "from collections import defaultdict\n",
    "from typing import Iterable, Iterator, TypeVar, Mapping, List, Tuple, Sequence, Callable\n",
    "from rl.chapter2.simple_inventory_mrp import *\n",
    "from rl.returns import returns\n",
    "from rl.td import td_prediction\n",
    "from rl.distribution import Choose\n",
    "from rl.monte_carlo import mc_prediction\n",
    "from rl.markov_process import TransitionStep, ReturnStep\n",
    "from rl.function_approx import Tabular, learning_rate_schedule, AdamGradient, FunctionApprox\n",
    "from rl.chapter2.simple_inventory_mrp import SimpleInventoryMRPFinite, InventoryState\n",
    "from rl.chapter10.prediction_utils import fmrp_episodes_stream, unit_experiences_from_episodes"
   ]
  },
  {
   "cell_type": "code",
   "execution_count": 93,
   "id": "89db3016",
   "metadata": {},
   "outputs": [],
   "source": [
    "#Initializing the simple inventory mrp\n",
    "capacity = 2\n",
    "poisson_lambda = 1.0\n",
    "holding_cost = 1.0\n",
    "stockout_cost = 10.0\n",
    "\n",
    "\n",
    "si_mrp = SimpleInventoryMRPFinite(capacity=capacity,\n",
    "                                  poisson_lambda=poisson_lambda,\n",
    "                                  holding_cost=holding_cost,\n",
    "                                  stockout_cost=stockout_cost)\n",
    "\n"
   ]
  },
  {
   "cell_type": "markdown",
   "id": "93b22502",
   "metadata": {},
   "source": [
    "**Question 1**"
   ]
  },
  {
   "cell_type": "code",
   "execution_count": 98,
   "id": "6302e41d",
   "metadata": {},
   "outputs": [],
   "source": [
    "#Tabular MC for prediction\n",
    "\n",
    "S = TypeVar(\"S\")\n",
    "\n",
    "def tabular_mc_prediction(\n",
    "                        traces : Iterable[Iterable[TransitionStep[S]]],\n",
    "                        gamma = 0.7, \n",
    "                        ep_tol = 1e-6, \n",
    "                        num_traces = 1000) -> Mapping[S, float]:\n",
    "    #get an iterator on returns acting on \n",
    "    episodes : Iterator[ReturnStep[S]] = (returns(trace, gamma, ep_tol) for trace in traces)\n",
    "        \n",
    "    \n",
    "    \n",
    "    #counter to count the occurence of states\n",
    "    ctr = defaultdict(lambda : 0)\n",
    "    mc_vf = defaultdict(float)\n",
    "    \n",
    "    #length of an episode\n",
    "    max_steps = round(math.log(ep_tol) / math.log(gamma))\n",
    "    \n",
    "    #loop over all episodes and the all the states in each episode to accumalate the returns\n",
    "    for ep in itertools.islice(episodes, num_traces):\n",
    "        for st in itertools.islice(ep, max_steps):\n",
    "            mc_vf[st.state] += st.return_ \n",
    "            ctr[st.state] += 1\n",
    "            \n",
    "    #take average of the accumalated returns\n",
    "    for st in mc_vf:\n",
    "        mc_vf[st] = round(mc_vf[st]/ctr[st],2)\n",
    "    return mc_vf"
   ]
  },
  {
   "cell_type": "markdown",
   "id": "0e3395c0",
   "metadata": {},
   "source": [
    "**Question 2**"
   ]
  },
  {
   "cell_type": "code",
   "execution_count": 99,
   "id": "f003378e",
   "metadata": {},
   "outputs": [],
   "source": [
    "#Tabular TD for prediction\n",
    "def tabular_td_prediction(transitions: Iterable[TransitionStep[S]], \n",
    "                          gamma : float = 0.9,\n",
    "                          l = learning_rate_schedule(0.01, 10000.0, 0.5),\n",
    "                         total_steps = 1000) -> Mapping[S, float]:\n",
    "    transitions = itertools.islice(transitions, total_steps)\n",
    "    td_vf = defaultdict(float)\n",
    "    for i, st in enumerate(transitions):\n",
    "        td_vf[st.state] += l(i) * (st.reward + gamma * td_vf[st.next_state] - td_vf[st.state])\n",
    "\n",
    "    \n",
    "    return td_vf"
   ]
  },
  {
   "cell_type": "markdown",
   "id": "008276bf",
   "metadata": {},
   "source": [
    "**Pending: implement both functions that return an iterator and not a dictionary**"
   ]
  },
  {
   "cell_type": "markdown",
   "id": "4e138be6",
   "metadata": {},
   "source": [
    "**Question 3**"
   ]
  },
  {
   "cell_type": "code",
   "execution_count": 102,
   "id": "1b7d2be7",
   "metadata": {},
   "outputs": [
    {
     "name": "stdout",
     "output_type": "stream",
     "text": [
      "MC with approx\n",
      "{NonTerminal(state=InventoryState(on_hand=0, on_order=1)): -8.445,\n",
      " NonTerminal(state=InventoryState(on_hand=0, on_order=2)): -8.277,\n",
      " NonTerminal(state=InventoryState(on_hand=1, on_order=1)): -9.284,\n",
      " NonTerminal(state=InventoryState(on_hand=1, on_order=0)): -9.458,\n",
      " NonTerminal(state=InventoryState(on_hand=0, on_order=0)): -15.795,\n",
      " NonTerminal(state=InventoryState(on_hand=2, on_order=0)): -10.27}\n",
      "\n",
      "\n",
      "Tabular MC\n",
      "defaultdict(<class 'float'>,\n",
      "            {NonTerminal(state=InventoryState(on_hand=2, on_order=0)): -10.26,\n",
      "             NonTerminal(state=InventoryState(on_hand=0, on_order=1)): -8.44,\n",
      "             NonTerminal(state=InventoryState(on_hand=1, on_order=0)): -9.45,\n",
      "             NonTerminal(state=InventoryState(on_hand=0, on_order=0)): -15.78,\n",
      "             NonTerminal(state=InventoryState(on_hand=0, on_order=2)): -8.26,\n",
      "             NonTerminal(state=InventoryState(on_hand=1, on_order=1)): -9.27})\n"
     ]
    }
   ],
   "source": [
    "gamma = 0.7\n",
    "traces = si_mrp.reward_traces(Choose(si_mrp.non_terminal_states))\n",
    "num_traces=10000\n",
    "mc = mc_prediction(             \n",
    "                    traces=traces,\n",
    "                    approx_0=Tabular(),\n",
    "                    γ=gamma, \n",
    "    episode_length_tolerance=1e-6\n",
    "    )\n",
    "\n",
    "*_, mc_approx = itertools.islice(mc, num_traces)\n",
    "print(\"MC with approx\")\n",
    "pprint({s : round(mc_approx.evaluate([s])[0], 3) for s in si_mrp.non_terminal_states})\n",
    "print(\"\\n\\nTabular MC\")\n",
    "tmc_vf = tabular_mc_prediction(\n",
    "                        traces,\n",
    "                        gamma = gamma, \n",
    "                        ep_tol = 1e-6, \n",
    "                        num_traces = num_traces)\n",
    "pprint(tmc_vf)"
   ]
  },
  {
   "cell_type": "code",
   "execution_count": 97,
   "id": "3edda6ce",
   "metadata": {},
   "outputs": [
    {
     "name": "stdout",
     "output_type": "stream",
     "text": [
      "TD with approx\n",
      "{NonTerminal(state=InventoryState(on_hand=0, on_order=1)): -8.138,\n",
      " NonTerminal(state=InventoryState(on_hand=0, on_order=2)): -7.955,\n",
      " NonTerminal(state=InventoryState(on_hand=1, on_order=1)): -8.993,\n",
      " NonTerminal(state=InventoryState(on_hand=1, on_order=0)): -9.134,\n",
      " NonTerminal(state=InventoryState(on_hand=0, on_order=0)): -15.499,\n",
      " NonTerminal(state=InventoryState(on_hand=2, on_order=0)): -9.985}\n",
      "\n",
      "\n",
      "Tabular TD\n",
      "defaultdict(<class 'float'>,\n",
      "            {NonTerminal(state=InventoryState(on_hand=2, on_order=0)): -10.393844373699348,\n",
      "             NonTerminal(state=InventoryState(on_hand=0, on_order=1)): -8.435574373336676,\n",
      "             NonTerminal(state=InventoryState(on_hand=0, on_order=0)): -15.882757986012924,\n",
      "             NonTerminal(state=InventoryState(on_hand=0, on_order=2)): -8.44001749159503,\n",
      "             NonTerminal(state=InventoryState(on_hand=1, on_order=1)): -9.269433595520901,\n",
      "             NonTerminal(state=InventoryState(on_hand=1, on_order=0)): -9.499487870704161})\n"
     ]
    }
   ],
   "source": [
    "episodes = si_mrp.reward_traces(Choose(si_mrp.non_terminal_states))\n",
    "num_ep = 1000\n",
    "transitions = unit_experiences_from_episodes(episodes, num_ep)\n",
    "\n",
    "l = learning_rate_schedule(0.01, 1000, 0.5)\n",
    "\n",
    "td_iterator= td_prediction(transitions=transitions,\n",
    "                           approx_0=Tabular(),\n",
    "                           γ=gamma)\n",
    "total_steps = 100*num_ep\n",
    "*_, td_approx = itertools.islice(td_iterator, total_steps)\n",
    "print(\"TD with approx\")\n",
    "pprint({s : round(td_approx.evaluate([s])[0], 3) for s in si_mrp.non_terminal_states})\n",
    "\n",
    "print(\"\\n\\nTabular TD\")\n",
    "td_vf = tabular_td_prediction(transitions=transitions, \n",
    "                          gamma = gamma,\n",
    "                          l = l,\n",
    "                         total_steps= total_steps)\n",
    "pprint(td_vf)"
   ]
  },
  {
   "cell_type": "markdown",
   "id": "9073386a",
   "metadata": {},
   "source": [
    "**We get the same results using tabular method and with approximation (linear) for both MC and TD.**"
   ]
  },
  {
   "cell_type": "code",
   "execution_count": null,
   "id": "78907ffc",
   "metadata": {},
   "outputs": [],
   "source": []
  }
 ],
 "metadata": {
  "kernelspec": {
   "display_name": "Python 3.8.6 64-bit ('ml_101': conda)",
   "language": "python",
   "name": "python386jvsc74a57bd05bfd9133dd126cf38103cd89df3a296c0b5a8984bbd48b120a330d6b9578f0ac"
  },
  "language_info": {
   "codemirror_mode": {
    "name": "ipython",
    "version": 3
   },
   "file_extension": ".py",
   "mimetype": "text/x-python",
   "name": "python",
   "nbconvert_exporter": "python",
   "pygments_lexer": "ipython3",
   "version": "3.8.6"
  }
 },
 "nbformat": 4,
 "nbformat_minor": 5
}
