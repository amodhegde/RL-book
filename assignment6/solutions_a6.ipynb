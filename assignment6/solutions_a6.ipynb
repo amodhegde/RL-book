{
 "cells": [
  {
   "cell_type": "markdown",
   "id": "5c8bad3e",
   "metadata": {},
   "source": [
    "**Question 3**\n",
    "\n",
    "Step 1\n",
    "$$\n",
    "W_1 = \n",
    "\\begin{cases}\n",
    "W_0(1 + f.\\alpha), \\ \\  \\text{if win} \\\\\n",
    "W_0(1 + f.\\beta), \\ \\  \\text{if lose}\n",
    "\\end{cases}\n",
    "$$\n",
    "\n",
    "Step 2\n",
    "$$\n",
    "\\log W_1 = \n",
    "\\begin{cases}\n",
    "\\log W_0(1 + f.\\alpha), \\ \\  \\text{if win} \\\\\n",
    "\\log W_0(1 + f.\\beta), \\ \\  \\text{if lose}\n",
    "\\end{cases}\n",
    "$$\n",
    "\n",
    "Step 3\n",
    "$$\n",
    "E[\\log W_1] = \\log W_0 + p.\\log (1 + f.\\alpha) + q.\\log (1 + f.\\beta)\n",
    "$$\n",
    "\n",
    "Step 4\n",
    "$$\n",
    "\\frac{\\partial E[\\log W_1] }{\\partial f} = p.\\frac{\\alpha}{(1 + f.\\alpha)}+ q.\\frac{\\beta}{(1 + f.\\beta)}\n",
    "$$\n",
    "\n",
    "Step 5\n",
    "$$\n",
    " p.\\frac{\\alpha}{(1 + f^*.\\alpha)}+ q.\\frac{\\beta}{(1 + f^*.\\beta)} = 0 \n",
    "$$\n",
    "$$f^* = \\frac{p}{\\beta} - \\frac{q}{\\alpha}$$\n",
    "\n",
    "Intuition:\n",
    "\n",
    "If p increases or the return $\\alpha$ increases then the ratio to be invested also increases. Similary if the losse $\\beta$ increases then the ratio to be invested decreases. Moreover when p is zero, ratio is also zero and when p is one, the ratio is also 1 (since $\\beta$ in this case does not make sense).\n"
   ]
  },
  {
   "cell_type": "markdown",
   "id": "fb0fdaba",
   "metadata": {},
   "source": [
    "**Question 1**\n",
    "\n",
    "Expected Utility\n",
    "\n",
    "$$E[U(x)] = E[x] - \\frac{\\alpha}{2}E[x^2]$$\n",
    "$$E[x] = \\mu \\ \\text{and} \\ E[x^2] = \\mu^2 + \\alpha^2$$\n",
    "$$E[U(x)] = \\mu - \\frac{\\alpha}{2}(\\mu^2 + \\alpha^2)$$\n",
    "\n",
    "\n",
    "Certainty Equivalent Value \n",
    "\n",
    "$$U(x_{CE}) = \\mu - \\frac{\\alpha}{2}(\\mu^2 + \\alpha^2)$$\n",
    "$$x_{CE} - \\frac{\\alpha}{2}x_{CE}^2 = \\mu - \\frac{\\alpha}{2}(\\mu^2 + \\alpha^2)$$\n",
    "\n",
    "It's a quadratic in $x_{CE}$.\n",
    "\n",
    "$$x_{CE} = \\frac{1 \\pm \\sqrt{1 - 2.\\alpha.(\\mu - \\frac{\\alpha}{2}(\\mu^2 + \\alpha^2))}}{\\alpha}$$\n",
    "\n",
    "Absolute risk premium $\\pi_A$\n",
    "\n",
    "$$\\pi_A = \\mu - \\frac{1 \\pm \\sqrt{1 - 2.\\alpha.(\\mu - \\frac{\\alpha}{2}(\\mu^2 + \\alpha^2))}}{\\alpha}$$\n",
    "\n",
    "\n",
    "Consider we invest ratio $\\pi$ in the risky asset. Then $W \\text{~} N(1+r+\\pi(\\mu-r),\\pi^2\\sigma^2)$.\n",
    "\n",
    "We want to maximize $E[U(W)] = (1+r+\\pi(\\mu-r)) - \\frac{\\alpha}{2}(1+r+\\pi(\\mu-r))^2+\\pi^2\\sigma^2)$\n",
    "\n",
    "$$\\frac{\\partial E[U(W)]}{\\partial \\pi} = (\\mu-r) - \\frac{\\alpha}{2}(2.(1+r+\\pi(\\mu-r))(\\mu-r)+2.\\pi \\sigma^2) $$\n",
    "$$(\\mu-r) - \\frac{\\alpha}{2}(2.(1+r+\\pi^*(\\mu-r))(\\mu-r)+2.\\pi^* \\sigma^2)=0$$\n",
    "$$\\pi^* = \\frac{\\mu-r -\\alpha(1+r)(\\mu-r)}{\\alpha \\sigma^2 + \\alpha (\\mu-r)^2}$$\n",
    "$$\\pi^* = \\frac{(\\mu-r) (1 -\\alpha(1+r))}{\\alpha \\sigma^2 + \\alpha (\\mu-r)^2}$$\n",
    "$$z=\\pi^* W$$\n",
    "\n",
    "\n"
   ]
  },
  {
   "cell_type": "markdown",
   "id": "b018163e",
   "metadata": {},
   "source": []
  },
  {
   "cell_type": "markdown",
   "id": "dab8c8ab",
   "metadata": {},
   "source": [
    "**The utility function is not monotonic and may even take negative values for higher alphas!**"
   ]
  },
  {
   "cell_type": "code",
   "execution_count": null,
   "id": "faa53513",
   "metadata": {},
   "outputs": [],
   "source": []
  },
  {
   "cell_type": "code",
   "execution_count": null,
   "id": "0d2c95c5",
   "metadata": {},
   "outputs": [],
   "source": []
  }
 ],
 "metadata": {
  "kernelspec": {
   "display_name": "Python 3.8.6 64-bit ('ml_101': conda)",
   "language": "python",
   "name": "python386jvsc74a57bd05bfd9133dd126cf38103cd89df3a296c0b5a8984bbd48b120a330d6b9578f0ac"
  },
  "language_info": {
   "codemirror_mode": {
    "name": "ipython",
    "version": 3
   },
   "file_extension": ".py",
   "mimetype": "text/x-python",
   "name": "python",
   "nbconvert_exporter": "python",
   "pygments_lexer": "ipython3",
   "version": "3.8.6"
  }
 },
 "nbformat": 4,
 "nbformat_minor": 5
}
